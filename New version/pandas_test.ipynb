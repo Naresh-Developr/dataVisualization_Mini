{
 "cells": [
  {
   "cell_type": "code",
   "execution_count": 43,
   "metadata": {},
   "outputs": [],
   "source": [
    "import pandas as pd"
   ]
  },
  {
   "cell_type": "code",
   "execution_count": 44,
   "metadata": {},
   "outputs": [],
   "source": [
    "df = pd.read_csv('sample_sales_report.csv')"
   ]
  },
  {
   "cell_type": "code",
   "execution_count": 45,
   "metadata": {},
   "outputs": [],
   "source": [
    "df_filter = df[(df['Category'] == 'Clothing') & (df['Units_Sold'] > 30)]\n"
   ]
  },
  {
   "cell_type": "code",
   "execution_count": 46,
   "metadata": {},
   "outputs": [
    {
     "data": {
      "text/html": [
       "<div>\n",
       "<style scoped>\n",
       "    .dataframe tbody tr th:only-of-type {\n",
       "        vertical-align: middle;\n",
       "    }\n",
       "\n",
       "    .dataframe tbody tr th {\n",
       "        vertical-align: top;\n",
       "    }\n",
       "\n",
       "    .dataframe thead th {\n",
       "        text-align: right;\n",
       "    }\n",
       "</style>\n",
       "<table border=\"1\" class=\"dataframe\">\n",
       "  <thead>\n",
       "    <tr style=\"text-align: right;\">\n",
       "      <th></th>\n",
       "      <th>Date</th>\n",
       "      <th>Product_ID</th>\n",
       "      <th>Product_Name</th>\n",
       "      <th>Category</th>\n",
       "      <th>Sales_Region</th>\n",
       "      <th>Units_Sold</th>\n",
       "      <th>Unit_Price</th>\n",
       "      <th>Total_Revenue</th>\n",
       "      <th>Discount_Applied</th>\n",
       "      <th>Profit</th>\n",
       "    </tr>\n",
       "  </thead>\n",
       "  <tbody>\n",
       "    <tr>\n",
       "      <th>19</th>\n",
       "      <td>2024-01-20</td>\n",
       "      <td>1130</td>\n",
       "      <td>Product_B</td>\n",
       "      <td>Clothing</td>\n",
       "      <td>South America</td>\n",
       "      <td>36</td>\n",
       "      <td>238.14</td>\n",
       "      <td>8573.04</td>\n",
       "      <td>0.08</td>\n",
       "      <td>7887.20</td>\n",
       "    </tr>\n",
       "    <tr>\n",
       "      <th>22</th>\n",
       "      <td>2024-01-23</td>\n",
       "      <td>1769</td>\n",
       "      <td>Product_D</td>\n",
       "      <td>Clothing</td>\n",
       "      <td>Europe</td>\n",
       "      <td>33</td>\n",
       "      <td>299.51</td>\n",
       "      <td>9883.83</td>\n",
       "      <td>0.24</td>\n",
       "      <td>7511.71</td>\n",
       "    </tr>\n",
       "    <tr>\n",
       "      <th>47</th>\n",
       "      <td>2024-02-17</td>\n",
       "      <td>1189</td>\n",
       "      <td>Product_C</td>\n",
       "      <td>Clothing</td>\n",
       "      <td>South America</td>\n",
       "      <td>33</td>\n",
       "      <td>419.63</td>\n",
       "      <td>13847.79</td>\n",
       "      <td>0.19</td>\n",
       "      <td>11216.71</td>\n",
       "    </tr>\n",
       "    <tr>\n",
       "      <th>58</th>\n",
       "      <td>2024-02-28</td>\n",
       "      <td>1484</td>\n",
       "      <td>Product_A</td>\n",
       "      <td>Clothing</td>\n",
       "      <td>North America</td>\n",
       "      <td>44</td>\n",
       "      <td>371.57</td>\n",
       "      <td>16349.08</td>\n",
       "      <td>0.16</td>\n",
       "      <td>13733.23</td>\n",
       "    </tr>\n",
       "    <tr>\n",
       "      <th>62</th>\n",
       "      <td>2024-03-03</td>\n",
       "      <td>1840</td>\n",
       "      <td>Product_A</td>\n",
       "      <td>Clothing</td>\n",
       "      <td>Asia</td>\n",
       "      <td>46</td>\n",
       "      <td>131.39</td>\n",
       "      <td>6043.94</td>\n",
       "      <td>0.04</td>\n",
       "      <td>5802.18</td>\n",
       "    </tr>\n",
       "  </tbody>\n",
       "</table>\n",
       "</div>"
      ],
      "text/plain": [
       "          Date  Product_ID Product_Name  Category   Sales_Region  Units_Sold  \\\n",
       "19  2024-01-20        1130    Product_B  Clothing  South America          36   \n",
       "22  2024-01-23        1769    Product_D  Clothing         Europe          33   \n",
       "47  2024-02-17        1189    Product_C  Clothing  South America          33   \n",
       "58  2024-02-28        1484    Product_A  Clothing  North America          44   \n",
       "62  2024-03-03        1840    Product_A  Clothing           Asia          46   \n",
       "\n",
       "    Unit_Price  Total_Revenue  Discount_Applied    Profit  \n",
       "19      238.14        8573.04              0.08   7887.20  \n",
       "22      299.51        9883.83              0.24   7511.71  \n",
       "47      419.63       13847.79              0.19  11216.71  \n",
       "58      371.57       16349.08              0.16  13733.23  \n",
       "62      131.39        6043.94              0.04   5802.18  "
      ]
     },
     "execution_count": 46,
     "metadata": {},
     "output_type": "execute_result"
    }
   ],
   "source": [
    "df_filter.head()"
   ]
  },
  {
   "cell_type": "markdown",
   "metadata": {},
   "source": []
  },
  {
   "cell_type": "code",
   "execution_count": null,
   "metadata": {},
   "outputs": [],
   "source": []
  }
 ],
 "metadata": {
  "kernelspec": {
   "display_name": "Python 3",
   "language": "python",
   "name": "python3"
  },
  "language_info": {
   "codemirror_mode": {
    "name": "ipython",
    "version": 3
   },
   "file_extension": ".py",
   "mimetype": "text/x-python",
   "name": "python",
   "nbconvert_exporter": "python",
   "pygments_lexer": "ipython3",
   "version": "3.10.11"
  }
 },
 "nbformat": 4,
 "nbformat_minor": 2
}
